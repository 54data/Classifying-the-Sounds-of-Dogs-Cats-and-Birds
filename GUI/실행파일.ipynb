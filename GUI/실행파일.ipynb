{
 "cells": [
  {
   "cell_type": "code",
   "execution_count": 1,
   "id": "4842088d",
   "metadata": {},
   "outputs": [
    {
     "name": "stdout",
     "output_type": "stream",
     "text": [
      "pygame 2.1.2 (SDL 2.0.18, Python 3.8.3)\n",
      "Hello from the pygame community. https://www.pygame.org/contribute.html\n"
     ]
    },
    {
     "name": "stderr",
     "output_type": "stream",
     "text": [
      "C:\\Users\\gldgl\\anaconda3\\envs\\snowdeer_env1\\lib\\site-packages\\matplotlib\\axes\\_axes.py:7626: RuntimeWarning: divide by zero encountered in log10\n",
      "  Z = 10. * np.log10(spec)\n",
      "C:\\Users\\gldgl\\anaconda3\\envs\\snowdeer_env1\\lib\\site-packages\\matplotlib\\axes\\_axes.py:7626: RuntimeWarning: divide by zero encountered in log10\n",
      "  Z = 10. * np.log10(spec)\n",
      "C:\\Users\\gldgl\\anaconda3\\envs\\snowdeer_env1\\lib\\site-packages\\matplotlib\\axes\\_axes.py:7626: RuntimeWarning: divide by zero encountered in log10\n",
      "  Z = 10. * np.log10(spec)\n",
      "C:\\Users\\gldgl\\anaconda3\\envs\\snowdeer_env1\\lib\\site-packages\\matplotlib\\axes\\_axes.py:7626: RuntimeWarning: divide by zero encountered in log10\n",
      "  Z = 10. * np.log10(spec)\n",
      "C:\\Users\\gldgl\\anaconda3\\envs\\snowdeer_env1\\lib\\site-packages\\matplotlib\\axes\\_axes.py:7626: RuntimeWarning: divide by zero encountered in log10\n",
      "  Z = 10. * np.log10(spec)\n",
      "C:\\Users\\gldgl\\anaconda3\\envs\\snowdeer_env1\\lib\\site-packages\\matplotlib\\axes\\_axes.py:7626: RuntimeWarning: divide by zero encountered in log10\n",
      "  Z = 10. * np.log10(spec)\n"
     ]
    }
   ],
   "source": [
    "from SoundGUI import soundgui\n",
    "soundgui.main()"
   ]
  }
 ],
 "metadata": {
  "kernelspec": {
   "display_name": "Python 3 (ipykernel)",
   "language": "python",
   "name": "python3"
  },
  "language_info": {
   "codemirror_mode": {
    "name": "ipython",
    "version": 3
   },
   "file_extension": ".py",
   "mimetype": "text/x-python",
   "name": "python",
   "nbconvert_exporter": "python",
   "pygments_lexer": "ipython3",
   "version": "3.8.3"
  }
 },
 "nbformat": 4,
 "nbformat_minor": 5
}
