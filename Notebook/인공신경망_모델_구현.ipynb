{
  "nbformat": 4,
  "nbformat_minor": 0,
  "metadata": {
    "colab": {
      "name": "인공신경망/모델 구현",
      "provenance": [],
      "collapsed_sections": []
    },
    "kernelspec": {
      "name": "python3",
      "display_name": "Python 3"
    },
    "language_info": {
      "name": "python"
    }
  },
  "cells": [
    {
      "cell_type": "code",
      "execution_count": null,
      "metadata": {
        "id": "jk1wVxk_LEZ5"
      },
      "outputs": [],
      "source": [
        "# 신경망 모델을 구성하기 위한 패키지 임포트\n",
        "\n",
        "from keras import layers\n",
        "from keras import models\n",
        "from keras import optimizers\n",
        "from keras import losses\n",
        "from keras.callbacks import ModelCheckpoint,EarlyStopping\n",
        "from tensorflow.keras.utils import to_categorical"
      ]
    },
    {
      "cell_type": "code",
      "source": [
        "# 정답 데이터를 one hot encoding 합니다. \n",
        "train_labels = to_categorical(y_train)\n",
        "test_labels = to_categorical(y_test)\n",
        "print(test_labels)"
      ],
      "metadata": {
        "id": "df_9baNxLSeH"
      },
      "execution_count": null,
      "outputs": []
    },
    {
      "cell_type": "code",
      "source": [
        "# 완전연결계층으로 3층 신경망을 구성합니다. \n",
        "# dropout, L2가중치감소를 썼으나 데이터가 360개로 상대적으로 적어 오히려 가중치가 더 감소되어 사용하지 않기로 하였습니다.\n",
        "from  tensorflow.keras.layers  import  Dense, BatchNormalization,  Dropout\n",
        "\n",
        "tf.random.set_seed(777)\n",
        "model = models.Sequential()\n",
        "model.add(layers.Dense(100, activation = 'relu', input_shape = (61, )))  # 61개의 입력뉴런으로 flatten 시킨것을 입력받는다\n",
        "\n",
        "model.add(layers.Dense(50, activation = 'relu'))\n",
        "\n",
        "model.add(layers.Dense(3, activation = 'softmax'))\n",
        "model.summary()"
      ],
      "metadata": {
        "id": "byaPqNFkLU4r"
      },
      "execution_count": null,
      "outputs": []
    },
    {
      "cell_type": "code",
      "source": [
        "# 모델 구성단계\n",
        "best_model_weights = '/content/drive/MyDrive/model_04_3.h5'  # 모델이 저장될 위치와 이름 \n",
        "\n",
        "# 학습 시킨 모델을 저장할 때 가장 좋은 모델을 알아서 자동으로 생성\n",
        "checkpoint = ModelCheckpoint(\n",
        "    best_model_weights,\n",
        "    monitor='val_accuracy', \n",
        "    verbose=1,  \n",
        "    save_best_only=True, \n",
        "    mode='max', \n",
        "    save_weights_only=False                             \n",
        ")\n",
        "\n",
        "estop = EarlyStopping(monitor = 'val_accuracy', patience = 20, verbose = 1) # 얼리스탑 기능\n",
        "callbacks = [checkpoint, estop]\n",
        "\n",
        "model.compile(optimizer='adam',\n",
        "              loss=losses.categorical_crossentropy,\n",
        "              metrics=['accuracy'])"
      ],
      "metadata": {
        "id": "_w64_Ou8LaLx"
      },
      "execution_count": null,
      "outputs": []
    },
    {
      "cell_type": "code",
      "source": [
        "# 모델 학습단계\n",
        "history = model.fit(\n",
        "    X_train_features,  # 훈련 데이터 (60개의 mel값 + 1개의 zero_crossing_rate의 평균값 )\n",
        "    train_labels,  # 원핫 인코딩한 정답\n",
        "    validation_data=(X_test_features,test_labels),\n",
        "    epochs = 200, \n",
        "    verbose = 1,\n",
        "    callbacks=callbacks,\n",
        ")"
      ],
      "metadata": {
        "id": "Jf3rgULALjYa"
      },
      "execution_count": null,
      "outputs": []
    },
    {
      "cell_type": "code",
      "source": [
        "# epochs에 따른 accuacy와 loss 선그래프\n",
        "import matplotlib.pyplot as plt\n",
        "print(history.history.keys())\n",
        "acc = history.history['accuracy']\n",
        "val_acc = history.history['val_accuracy']\n",
        "loss=history.history['loss']\n",
        "val_loss=history.history['val_loss']\n",
        "epochs = range(1, len(acc)+1)\n",
        "\n",
        "ax1=plt.subplot(2,1,1)\n",
        "plt.plot(epochs, acc, 'b', label = \"training accuracy\")\n",
        "plt.plot(epochs, val_acc, 'r', label = \"validation accuracy\")\n",
        "plt.ylabel('acc')\n",
        "plt.xticks(visible=False)\n",
        "plt.title('Training and validation accuracy')\n",
        "plt.legend()\n",
        "\n",
        "ax2=plt.subplot(2,1,2,sharex=ax1)\n",
        "plt.plot(epochs, loss, 'b', label = \"training loss\")\n",
        "plt.plot(epochs, val_loss, 'r', label = \"validation loss\")\n",
        "plt.title('Training and validation loss')\n",
        "plt.xlabel('epochs')\n",
        "plt.ylabel('loss')\n",
        "plt.legend()\n",
        "plt.show()"
      ],
      "metadata": {
        "id": "WJ7VC_YwLosA"
      },
      "execution_count": null,
      "outputs": []
    },
    {
      "cell_type": "code",
      "source": [
        "np.where(y_test==0) # 0:새, 1:고양이, 2:개 테스트데이터에서 각 동물별 음성데이터 인덱스 번호 알기위해서"
      ],
      "metadata": {
        "id": "Jy902RUULvcn"
      },
      "execution_count": null,
      "outputs": []
    },
    {
      "cell_type": "code",
      "source": [
        "# 테스트데이터 맞춰보기, 118번은 새소리 한번 맞춰보자\n",
        "import IPython.display as ipd\n",
        "nr_to_predict = 118 \n",
        "pred = model.predict(X_test_features[nr_to_predict].reshape(1, 61,))\n",
        "print(\"Bird: {} Cat: {} Dog: {}\".format(pred[0][0], pred[0][1], pred[0][2]))\n",
        "if (y_test[nr_to_predict] == 0):\n",
        "    print (\"This is a bird twitter\")\n",
        "elif (y_test[nr_to_predict] == 1):\n",
        "    print (\"This is a cat meowing\")\n",
        "elif (y_test[nr_to_predict] == 2):\n",
        "    print (\"This is a Dog barking\")\n",
        "    \n",
        "plt.plot(X_test_features[nr_to_predict])\n",
        "ipd.Audio(X_test[nr_to_predict],  rate=wav_rate)"
      ],
      "metadata": {
        "id": "rvQ7U2WoL23W"
      },
      "execution_count": null,
      "outputs": []
    },
    {
      "cell_type": "code",
      "source": [
        "# 외부데이터 (고양이소리) 맞춰보기\n",
        "audio_path='/content/drive/MyDrive/ColabNotebooks/sound/cat6.wav'\n",
        "\n",
        "cat_y, cat_sr =librosa.load(audio_path) # 외부데이터 cat의 진폭, cat_y만 이용\n",
        "\n",
        "# cat_test=librosa.read_wav_files(cat_test) # y만 담겼기때문에 할 필요 x \n",
        "cat_test_features=extract_features(cat_y,wav_rate)\n",
        "# cat_test_features[0]\n",
        "\n",
        "nr_to_predict = 0 # 외부데이터는 파일갯수 하나이기때문에 [0] 적용\n",
        "pred = model.predict(cat_test_features[nr_to_predict].reshape(1, 61,))\n",
        "print(\"Bird: {} Cat: {} Dog: {}\".format(pred[0][0], pred[0][1], pred[0][2]))\n",
        "a=[pred[0][0], pred[0][1], pred[0][2]]\n",
        "b=np.array(a)\n",
        "\n",
        "if (np.argmax(b) == 0):\n",
        "    print (\"This is a bird twitter\")\n",
        "elif (np.argmax(b) == 1):\n",
        "    print (\"This is a cat meowing\")\n",
        "elif (np.argmax(b) == 2):\n",
        "    print (\"This is a Dog barking\")\n",
        "\n",
        "plt.plot(cat_test_features[nr_to_predict])\n",
        "import IPython.display as ipd\n",
        "ipd.Audio(librosa.load(audio_path)[nr_to_predict],  rate=wav_rate)"
      ],
      "metadata": {
        "id": "znnz1rG0L39Q"
      },
      "execution_count": null,
      "outputs": []
    },
    {
      "cell_type": "code",
      "source": [
        "# 외부고양이 데이터 spectogram 보기\n",
        "import librosa\n",
        "from scipy import signal\n",
        "freq_axis, t_axis,spec=signal.spectrogram(x=cat_y,fs=wav_rate,nperseg=220, noverlap=110,nfft=256)\n",
        "plt.pcolormesh(t_axis,freq_axis,spec)\n",
        "plt.ylabel('Frequency')\n",
        "plt.xlabel('Time')\n",
        "plt.title('spectrogram')\n",
        "plt.show()"
      ],
      "metadata": {
        "id": "HGpvQ0-XL-X3"
      },
      "execution_count": null,
      "outputs": []
    }
  ]
}